{
 "cells": [
  {
   "cell_type": "code",
   "execution_count": 1,
   "metadata": {
    "collapsed": false
   },
   "outputs": [],
   "source": [
    "%matplotlib inline\n",
    "\n",
    "import os\n",
    "import sys\n",
    "\n",
    "try:\n",
    "    current_path=os.path.dirname(os.path.realpath(__file__))\n",
    "except NameError:\n",
    "    current_path=os.getcwd()\n",
    "\n",
    "for i in range(3):\n",
    "    sys.path.append(current_path)\n",
    "    current_path=os.path.dirname(current_path)\n",
    "\n",
    "from param_global import *"
   ]
  },
  {
   "cell_type": "code",
   "execution_count": 2,
   "metadata": {
    "collapsed": false
   },
   "outputs": [],
   "source": [
    "class data(object):\n",
    "    \n",
    "    def generate_i_Image(self):\n",
    "        if os.path.exists(os.path.join(self.image_data_dir,self.SDSS_ID+\"-i.csv\")):\n",
    "            image_df=pd.read_csv(os.path.join(self.image_data_dir,self.SDSS_ID+\"-i.csv\"),header=None)\n",
    "            \n",
    "            return image_df.as_matrix()\n",
    "        else:\n",
    "            return None\n",
    "    def generate_g_Image(self):\n",
    "        if os.path.exists(os.path.join(self.image_data_dir,self.SDSS_ID+\"-g.csv\")):\n",
    "            image_df=pd.read_csv(os.path.join(self.image_data_dir,self.SDSS_ID+\"-g.csv\"),header=None)\n",
    "            return image_df.as_matrix()\n",
    "        else:\n",
    "            return None\n",
    "    \n",
    "    \n",
    "    def __init__(self,SDSS_ID,logMstar,err_logMstar,Distance,image_data_dir):\n",
    "        self.SDSS_ID=SDSS_ID\n",
    "        self.logMstar=logMstar\n",
    "        self.err_logMstar=err_logMstar\n",
    "        self.Distance=Distance\n",
    "        self.image_data_dir=image_data_dir\n",
    "        self.i_image=self.generate_i_Image()\n",
    "        self.g_image=self.generate_g_Image()    \n",
    "        \n",
    "        \n",
    "    def plot_image(self):\n",
    "        if self.i_image!=None:\n",
    "            plt.subplot(121)\n",
    "            img=plt.imshow(self.i_image)\n",
    "            img.set_cmap('hot')\n",
    "            plt.title(\"I band Image\")\n",
    "            plt.axis('off')\n",
    "        if self.g_image!=None:\n",
    "            plt.subplot(122)\n",
    "            img=plt.imshow(self.g_image)\n",
    "            plt.title(\"G band Image\")\n",
    "            img.set_cmap('hot')\n",
    "            plt.axis('off')\n",
    "   "
   ]
  },
  {
   "cell_type": "code",
   "execution_count": 3,
   "metadata": {
    "collapsed": true
   },
   "outputs": [],
   "source": [
    "def read_target_data_csv(target_data_csv_path):\n",
    "    target_data_df=pd.read_csv(target_data_csv_path,sep=\";\",dtype={\"SDSS_ID\":str,'logMstar':np.float64, 'err_logMstar':np.float64, 'Distance':np.float64})\n",
    "    return target_data_df\n",
    "    "
   ]
  },
  {
   "cell_type": "code",
   "execution_count": 4,
   "metadata": {
    "collapsed": true
   },
   "outputs": [],
   "source": [
    "def get_Data(target_data_df):\n",
    "    \n",
    "    data_objects=[]\n",
    "    for index in range(len(target_data_df)):\n",
    "        SDSS_ID=target_data_df.iloc[index][\"SDSS_ID\"]\n",
    "        logMstar=target_data_df.iloc[index][\"logMstar\"]\n",
    "        err_logMstar=target_data_df.iloc[index][\"err_logMstar\"]\n",
    "        Distance=target_data_df.iloc[index][\"Distance\"]\n",
    "\n",
    "        data_objects.append(data(SDSS_ID,logMstar,err_logMstar,Distance,sample_data_path))\n",
    "    return data_objects"
   ]
  },
  {
   "cell_type": "code",
   "execution_count": 5,
   "metadata": {
    "collapsed": false
   },
   "outputs": [],
   "source": [
    "if __name__ == \"__main__\":\n",
    "    target_data_csv_path=os.path.join(data_path,\"sample.csv\")\n",
    "    sample_target_data_df=read_target_data_csv(target_data_csv_path)\n",
    "    sample_data_object=get_Data(sample_target_data_df)"
   ]
  },
  {
   "cell_type": "code",
   "execution_count": null,
   "metadata": {
    "collapsed": false
   },
   "outputs": [],
   "source": []
  }
 ],
 "metadata": {
  "kernelspec": {
   "display_name": "Python 3",
   "language": "python",
   "name": "python3"
  },
  "language_info": {
   "codemirror_mode": {
    "name": "ipython",
    "version": 3
   },
   "file_extension": ".py",
   "mimetype": "text/x-python",
   "name": "python",
   "nbconvert_exporter": "python",
   "pygments_lexer": "ipython3",
   "version": "3.6.0"
  }
 },
 "nbformat": 4,
 "nbformat_minor": 2
}
