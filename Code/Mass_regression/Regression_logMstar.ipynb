{
 "cells": [
  {
   "cell_type": "code",
   "execution_count": 42,
   "metadata": {},
   "outputs": [],
   "source": [
    "import sys\n",
    "import os\n",
    "\n",
    "sys.path.append(\"../Pre_processing\")\n",
    "\n",
    "from Data_Preparation_Library import *\n",
    "from sklearn.preprocessing import StandardScaler\n",
    "from sklearn.preprocessing import MinMaxScaler"
   ]
  },
  {
   "cell_type": "code",
   "execution_count": 2,
   "metadata": {
    "collapsed": true
   },
   "outputs": [],
   "source": [
    "#selectedBatches=[\"6\",\"7\",\"8\",\"9\",\"10\",\"11\",\"12\",\"13\",\"14\",\"15\",\"16\",\"17\",\"18\",\"19\",\"20\"]\n",
    "maxBatchId = 1\n",
    "selectedBatches=[str(i) for i in range(maxBatchId)]\n",
    "\n",
    "batch_data_object = []\n",
    "for i in selectedBatches:\n",
    "    with open(os.path.join(temp_path,'full_data_object_' + i + '.p'), 'rb') as handle:\n",
    "        batch_data_object+=pickle.load(handle)\n",
    "\n",
    "data_train = batch_data_object[0:int(len(batch_data_object)*2/3)]\n",
    "data_test  = batch_data_object[int(len(batch_data_object)*2/3):]"
   ]
  },
  {
   "cell_type": "code",
   "execution_count": 3,
   "metadata": {
    "collapsed": true
   },
   "outputs": [],
   "source": [
    "def flux(d):\n",
    "  # TODO: get flux_i from model\n",
    "    if d.i_image != None:\n",
    "        flux_i = sum(sum(d.i_image))\n",
    "    else:\n",
    "        flux_i = 0\n",
    "    flux_g = sum(sum(d.g_image))\n",
    "    #return flux_i+flux_g, flux_g-flux_i\n",
    "    return flux_g"
   ]
  },
  {
   "cell_type": "raw",
   "metadata": {},
   "source": []
  },
  {
   "cell_type": "code",
   "execution_count": 4,
   "metadata": {
    "collapsed": true
   },
   "outputs": [],
   "source": [
    "with open(os.path.join(output_path,\"encoder_results_train_v2_\" + \"_\".join(selectedBatches)),'rb') as handle:\n",
    "    encoded_imgs1=pickle.load(handle)\n",
    "    encoded_imgs_reshaped_train = [e.reshape(-1,1) for e in encoded_imgs1]\n",
    "\n",
    "with open(os.path.join(output_path,\"encoder_results_test_v2_\" + \"_\".join(selectedBatches)),'rb') as handle:\n",
    "    encoded_imgs2=pickle.load(handle)\n",
    "    encoded_imgs_reshaped_test = [e.reshape(-1,1) for e in encoded_imgs2]\n"
   ]
  },
  {
   "cell_type": "code",
   "execution_count": 78,
   "metadata": {},
   "outputs": [
    {
     "ename": "SyntaxError",
     "evalue": "unexpected EOF while parsing (<ipython-input-78-f89bb59a94fa>, line 3)",
     "output_type": "error",
     "traceback": [
      "\u001b[0;36m  File \u001b[0;32m\"<ipython-input-78-f89bb59a94fa>\"\u001b[0;36m, line \u001b[0;32m3\u001b[0m\n\u001b[0;31m    #  return [v1_i,v2_i,v1_i/v2_i,v2_i/v1_i, v1_g,v2_g,v1_g/v2_g,v2_g/v1_g]\u001b[0m\n\u001b[0m                                                                            ^\u001b[0m\n\u001b[0;31mSyntaxError\u001b[0m\u001b[0;31m:\u001b[0m unexpected EOF while parsing\n"
     ]
    }
   ],
   "source": [
    "def pca_feature(d):\n",
    "    \n",
    "#  return [v1_i,v2_i,v1_i/v2_i,v2_i/v1_i, v1_g,v2_g,v1_g/v2_g,v2_g/v1_g]\n"
   ]
  },
  {
   "cell_type": "code",
   "execution_count": 91,
   "metadata": {},
   "outputs": [
    {
     "name": "stdout",
     "output_type": "stream",
     "text": [
      "(659, 4100) (659,)\n"
     ]
    }
   ],
   "source": [
    "# accessible in the class: size of image, maximum of image, normalization factor of g + fitted value of normalization factor for i\n",
    "# define a function to get the training and testing dataset\n",
    "\n",
    "def obtain_train_data():\n",
    "    train_features = []\n",
    "    train_labels = []\n",
    "    for i in range(len(data_train)):\n",
    "        if data_train[i].logMstar!=-99:\n",
    "            e = encoded_imgs_reshaped_train[i]\n",
    "            d = data_train[i]\n",
    "            #f1,f2 = flux(d)\n",
    "            f = flux(d)\n",
    "            size_1=d.g_image.shape[0]\n",
    "            size_2=d.g_image.shape[1]\n",
    "            img_max=d.g_image.max()\n",
    "            train_features.append(np.append(e,np.array([f,size_1,size_2,img_max])))\n",
    "            train_labels.append(d.logMstar)\n",
    "    return train_features, train_labels\n",
    "\n",
    "train_features = np.asarray(obtain_train_data()[0])\n",
    "train_labels = np.asarray(obtain_train_data()[1])\n",
    "\n",
    "print(train_features.shape, train_labels.shape)"
   ]
  },
  {
   "cell_type": "code",
   "execution_count": 92,
   "metadata": {},
   "outputs": [
    {
     "name": "stdout",
     "output_type": "stream",
     "text": [
      "(325, 4100) (325,)\n"
     ]
    }
   ],
   "source": [
    "def obtain_test_data():\n",
    "    test_features = []\n",
    "    test_labels = []\n",
    "    for j in range(len(data_test)):\n",
    "        if data_test[j].logMstar!=-99:\n",
    "            e = encoded_imgs_reshaped_test[j]\n",
    "            d = data_test[j]\n",
    "\n",
    "        #f1,f2 = flux(d)\n",
    "            f = flux(d)\n",
    "            size_1=d.g_image.shape[0]\n",
    "            size_2=d.g_image.shape[1]\n",
    "            img_max=d.g_image.max()\n",
    "            test_features.append(np.append(e,np.array([f,size_1,size_2,img_max])))\n",
    "            test_labels.append(d.logMstar)\n",
    "\n",
    "    return test_features, test_labels\n",
    "\n",
    "test_features = np.asarray(obtain_test_data()[0])\n",
    "test_labels = np.asarray(obtain_test_data()[1])\n",
    "\n",
    "print(test_features.shape, test_labels.shape)"
   ]
  },
  {
   "cell_type": "code",
   "execution_count": 93,
   "metadata": {},
   "outputs": [
    {
     "name": "stdout",
     "output_type": "stream",
     "text": [
      "[[-0.46823421 -0.5080603   0.02156935 ..., -0.08512842 -0.08512842\n",
      "  -0.31407447]\n",
      " [-0.37778186  0.01002213  0.36101057 ...,  1.97956789  1.97956789\n",
      "  -0.3734218 ]\n",
      " [-0.31466022 -0.04653447  0.02059651 ...,  1.35231838  1.35231838\n",
      "   1.8731427 ]\n",
      " [-0.34544549  0.51801735  0.59461292 ..., -0.45102397 -0.45102397\n",
      "  -0.4427597 ]\n",
      " [ 0.5452832   1.31677986  0.74994534 ..., -0.56863325 -0.56863325\n",
      "  -0.42390013]] [[ 0.15133955 -1.55998065 -0.05018915 ...,  0.01941317  0.01941317\n",
      "  -0.41906929]\n",
      " [-0.31818065  0.05129635  0.23653529 ...,  1.888094    1.888094\n",
      "  -0.11246488]\n",
      " [ 0.8351674   1.77883233  1.02854044 ..., -0.49022706 -0.49022706\n",
      "  -0.44070063]\n",
      " [-0.48722797 -0.36853051  0.03476775 ...,  0.01941317  0.01941317\n",
      "  -0.30787221]\n",
      " [-0.51023902 -1.52314199 -1.47030972 ..., -0.52943016 -0.52943016\n",
      "  -0.42655866]]\n"
     ]
    }
   ],
   "source": [
    "# ## transform features\n",
    "# train_features = StandardScaler().fit_transform(train_features)\n",
    "# test_features = StandardScaler().transform(test_features)\n",
    "# #features = MinMaxScaler().fit_transform(features)\n",
    "\n",
    "X_scaler = StandardScaler()\n",
    "train_features = X_scaler.fit_transform(train_features)\n",
    "test_features = X_scaler.transform(test_features)\n",
    "\n",
    "print(train_features[:5], test_features[:5])"
   ]
  },
  {
   "cell_type": "code",
   "execution_count": 94,
   "metadata": {
    "collapsed": true
   },
   "outputs": [],
   "source": [
    "from keras.models import Sequential\n",
    "from keras.layers import Dense, Activation\n",
    "from keras.layers.core import Dropout"
   ]
  },
  {
   "cell_type": "code",
   "execution_count": 129,
   "metadata": {},
   "outputs": [],
   "source": [
    "model = Sequential()\n",
    "model.add(Dense(64, activation='relu', input_dim=train_features.shape[1]))\n",
    "model.add(Dropout(0.1))\n",
    "model.add(Dense(32, activation='relu',input_dim=train_features.shape[1]))\n",
    "model.add(Dropout(0.1))\n",
    "model.add(Dense(1,activation='relu',use_bias=True))\n",
    "model.compile(optimizer='Adadelta',\n",
    "              loss='mse',\n",
    "              metrics=['mse'])"
   ]
  },
  {
   "cell_type": "code",
   "execution_count": 130,
   "metadata": {
    "scrolled": true
   },
   "outputs": [
    {
     "name": "stdout",
     "output_type": "stream",
     "text": [
      "Train on 659 samples, validate on 325 samples\n",
      "Epoch 1/100\n",
      "659/659 [==============================] - 0s - loss: 58.8431 - mean_squared_error: 58.8431 - val_loss: 23.9819 - val_mean_squared_error: 23.9819\n",
      "Epoch 2/100\n",
      "659/659 [==============================] - 0s - loss: 25.0070 - mean_squared_error: 25.0070 - val_loss: 13.9518 - val_mean_squared_error: 13.9518\n",
      "Epoch 3/100\n",
      "659/659 [==============================] - 0s - loss: 16.2900 - mean_squared_error: 16.2900 - val_loss: 10.8195 - val_mean_squared_error: 10.8195\n",
      "Epoch 4/100\n",
      "659/659 [==============================] - 0s - loss: 11.1721 - mean_squared_error: 11.1721 - val_loss: 11.1006 - val_mean_squared_error: 11.1006\n",
      "Epoch 5/100\n",
      "659/659 [==============================] - 0s - loss: 8.9235 - mean_squared_error: 8.9235 - val_loss: 7.7772 - val_mean_squared_error: 7.7772\n",
      "Epoch 6/100\n",
      "659/659 [==============================] - 0s - loss: 6.2802 - mean_squared_error: 6.2802 - val_loss: 6.5890 - val_mean_squared_error: 6.5890\n",
      "Epoch 7/100\n",
      "659/659 [==============================] - 0s - loss: 5.0576 - mean_squared_error: 5.0576 - val_loss: 6.0442 - val_mean_squared_error: 6.0442\n",
      "Epoch 8/100\n",
      "659/659 [==============================] - 0s - loss: 4.3959 - mean_squared_error: 4.3959 - val_loss: 5.8467 - val_mean_squared_error: 5.8467\n",
      "Epoch 9/100\n",
      "659/659 [==============================] - 0s - loss: 4.1597 - mean_squared_error: 4.1597 - val_loss: 5.2688 - val_mean_squared_error: 5.2688\n",
      "Epoch 10/100\n",
      "659/659 [==============================] - 0s - loss: 3.7299 - mean_squared_error: 3.7299 - val_loss: 4.4823 - val_mean_squared_error: 4.4823\n",
      "Epoch 11/100\n",
      "659/659 [==============================] - 0s - loss: 3.4571 - mean_squared_error: 3.4571 - val_loss: 4.2018 - val_mean_squared_error: 4.2018\n",
      "Epoch 12/100\n",
      "659/659 [==============================] - 0s - loss: 3.5088 - mean_squared_error: 3.5088 - val_loss: 4.5277 - val_mean_squared_error: 4.5277\n",
      "Epoch 13/100\n",
      "659/659 [==============================] - 0s - loss: 3.4751 - mean_squared_error: 3.4751 - val_loss: 4.6067 - val_mean_squared_error: 4.6067\n",
      "Epoch 14/100\n",
      "659/659 [==============================] - 0s - loss: 3.8398 - mean_squared_error: 3.8398 - val_loss: 4.0693 - val_mean_squared_error: 4.0693\n",
      "Epoch 15/100\n",
      "659/659 [==============================] - 0s - loss: 3.2186 - mean_squared_error: 3.2186 - val_loss: 3.5112 - val_mean_squared_error: 3.5112\n",
      "Epoch 16/100\n",
      "659/659 [==============================] - 0s - loss: 3.2397 - mean_squared_error: 3.2397 - val_loss: 3.7600 - val_mean_squared_error: 3.7600\n",
      "Epoch 17/100\n",
      "659/659 [==============================] - 0s - loss: 2.7892 - mean_squared_error: 2.7892 - val_loss: 4.4815 - val_mean_squared_error: 4.4815\n",
      "Epoch 18/100\n",
      "659/659 [==============================] - 0s - loss: 2.9789 - mean_squared_error: 2.9789 - val_loss: 3.7352 - val_mean_squared_error: 3.7352\n",
      "Epoch 19/100\n",
      "659/659 [==============================] - 0s - loss: 2.5777 - mean_squared_error: 2.5777 - val_loss: 3.9571 - val_mean_squared_error: 3.9571\n",
      "Epoch 20/100\n",
      "659/659 [==============================] - 0s - loss: 2.8064 - mean_squared_error: 2.8064 - val_loss: 3.5347 - val_mean_squared_error: 3.5347\n",
      "Epoch 21/100\n",
      "659/659 [==============================] - 0s - loss: 2.4423 - mean_squared_error: 2.4423 - val_loss: 3.8222 - val_mean_squared_error: 3.8222\n",
      "Epoch 22/100\n",
      "659/659 [==============================] - 0s - loss: 2.4720 - mean_squared_error: 2.4720 - val_loss: 3.5375 - val_mean_squared_error: 3.5375\n",
      "Epoch 23/100\n",
      "659/659 [==============================] - 0s - loss: 2.7948 - mean_squared_error: 2.7948 - val_loss: 4.1572 - val_mean_squared_error: 4.1572\n",
      "Epoch 24/100\n",
      "659/659 [==============================] - 0s - loss: 2.7083 - mean_squared_error: 2.7083 - val_loss: 3.6685 - val_mean_squared_error: 3.6685\n",
      "Epoch 25/100\n",
      "659/659 [==============================] - 0s - loss: 2.9707 - mean_squared_error: 2.9707 - val_loss: 3.7373 - val_mean_squared_error: 3.7373\n",
      "Epoch 26/100\n",
      "659/659 [==============================] - 0s - loss: 2.6818 - mean_squared_error: 2.6818 - val_loss: 3.3773 - val_mean_squared_error: 3.3773\n",
      "Epoch 27/100\n",
      "659/659 [==============================] - 0s - loss: 2.4227 - mean_squared_error: 2.4227 - val_loss: 3.0522 - val_mean_squared_error: 3.0522\n",
      "Epoch 28/100\n",
      "659/659 [==============================] - 0s - loss: 2.4755 - mean_squared_error: 2.4755 - val_loss: 3.6796 - val_mean_squared_error: 3.6796\n",
      "Epoch 29/100\n",
      "659/659 [==============================] - 0s - loss: 2.5005 - mean_squared_error: 2.5005 - val_loss: 3.2829 - val_mean_squared_error: 3.2829\n",
      "Epoch 30/100\n",
      "659/659 [==============================] - 0s - loss: 2.1099 - mean_squared_error: 2.1099 - val_loss: 3.5198 - val_mean_squared_error: 3.5198\n",
      "Epoch 31/100\n",
      "659/659 [==============================] - ETA: 0s - loss: 2.7138 - mean_squared_error: 2.71 - 0s - loss: 2.6117 - mean_squared_error: 2.6117 - val_loss: 3.7244 - val_mean_squared_error: 3.7244\n",
      "Epoch 32/100\n",
      "659/659 [==============================] - 0s - loss: 2.3279 - mean_squared_error: 2.3279 - val_loss: 3.1327 - val_mean_squared_error: 3.1327\n",
      "Epoch 33/100\n",
      "659/659 [==============================] - 0s - loss: 2.2949 - mean_squared_error: 2.2949 - val_loss: 3.2931 - val_mean_squared_error: 3.2931\n",
      "Epoch 34/100\n",
      "659/659 [==============================] - 0s - loss: 2.4249 - mean_squared_error: 2.4249 - val_loss: 2.9813 - val_mean_squared_error: 2.9813\n",
      "Epoch 35/100\n",
      "659/659 [==============================] - 0s - loss: 2.4870 - mean_squared_error: 2.4870 - val_loss: 2.7207 - val_mean_squared_error: 2.7207\n",
      "Epoch 36/100\n",
      "659/659 [==============================] - 0s - loss: 2.3346 - mean_squared_error: 2.3346 - val_loss: 3.2337 - val_mean_squared_error: 3.2337\n",
      "Epoch 37/100\n",
      "659/659 [==============================] - 0s - loss: 2.3006 - mean_squared_error: 2.3006 - val_loss: 2.9069 - val_mean_squared_error: 2.9069\n",
      "Epoch 38/100\n",
      "659/659 [==============================] - 0s - loss: 2.2392 - mean_squared_error: 2.2392 - val_loss: 3.1221 - val_mean_squared_error: 3.1221\n",
      "Epoch 39/100\n",
      "659/659 [==============================] - 0s - loss: 2.4216 - mean_squared_error: 2.4216 - val_loss: 2.9017 - val_mean_squared_error: 2.9017\n",
      "Epoch 40/100\n",
      "659/659 [==============================] - 0s - loss: 2.0054 - mean_squared_error: 2.0054 - val_loss: 2.9917 - val_mean_squared_error: 2.9917\n",
      "Epoch 41/100\n",
      "659/659 [==============================] - 0s - loss: 2.1137 - mean_squared_error: 2.1137 - val_loss: 3.1503 - val_mean_squared_error: 3.1503\n",
      "Epoch 42/100\n",
      "659/659 [==============================] - 0s - loss: 2.1708 - mean_squared_error: 2.1708 - val_loss: 3.2030 - val_mean_squared_error: 3.2030\n",
      "Epoch 43/100\n",
      "659/659 [==============================] - 0s - loss: 2.2449 - mean_squared_error: 2.2449 - val_loss: 2.8731 - val_mean_squared_error: 2.8731\n",
      "Epoch 44/100\n",
      "659/659 [==============================] - 0s - loss: 2.0775 - mean_squared_error: 2.0775 - val_loss: 3.5509 - val_mean_squared_error: 3.5509\n",
      "Epoch 45/100\n",
      "659/659 [==============================] - 0s - loss: 2.0669 - mean_squared_error: 2.0669 - val_loss: 2.6448 - val_mean_squared_error: 2.6448\n",
      "Epoch 46/100\n",
      "659/659 [==============================] - 0s - loss: 2.0967 - mean_squared_error: 2.0967 - val_loss: 2.9293 - val_mean_squared_error: 2.9293\n",
      "Epoch 47/100\n",
      "659/659 [==============================] - 0s - loss: 2.3113 - mean_squared_error: 2.3113 - val_loss: 4.0917 - val_mean_squared_error: 4.0917\n",
      "Epoch 48/100\n",
      "659/659 [==============================] - 0s - loss: 1.8552 - mean_squared_error: 1.8552 - val_loss: 2.9518 - val_mean_squared_error: 2.9518\n",
      "Epoch 49/100\n",
      "659/659 [==============================] - 0s - loss: 2.1044 - mean_squared_error: 2.1044 - val_loss: 3.1674 - val_mean_squared_error: 3.1674\n",
      "Epoch 50/100\n",
      "659/659 [==============================] - 0s - loss: 2.1726 - mean_squared_error: 2.1726 - val_loss: 2.7012 - val_mean_squared_error: 2.7012\n",
      "Epoch 51/100\n",
      "659/659 [==============================] - 0s - loss: 2.1469 - mean_squared_error: 2.1469 - val_loss: 2.7554 - val_mean_squared_error: 2.7554\n",
      "Epoch 52/100\n",
      "659/659 [==============================] - 0s - loss: 2.0764 - mean_squared_error: 2.0764 - val_loss: 2.9966 - val_mean_squared_error: 2.9966\n",
      "Epoch 53/100\n"
     ]
    },
    {
     "name": "stdout",
     "output_type": "stream",
     "text": [
      "659/659 [==============================] - 0s - loss: 2.0822 - mean_squared_error: 2.0822 - val_loss: 3.3582 - val_mean_squared_error: 3.3582\n",
      "Epoch 54/100\n",
      "659/659 [==============================] - 0s - loss: 2.0540 - mean_squared_error: 2.0540 - val_loss: 2.8950 - val_mean_squared_error: 2.8950\n",
      "Epoch 55/100\n",
      "659/659 [==============================] - 0s - loss: 1.9086 - mean_squared_error: 1.9086 - val_loss: 2.3959 - val_mean_squared_error: 2.3959\n",
      "Epoch 56/100\n",
      "659/659 [==============================] - 0s - loss: 1.8523 - mean_squared_error: 1.8523 - val_loss: 2.7034 - val_mean_squared_error: 2.7034\n",
      "Epoch 57/100\n",
      "659/659 [==============================] - 0s - loss: 1.9917 - mean_squared_error: 1.9917 - val_loss: 3.0993 - val_mean_squared_error: 3.0993\n",
      "Epoch 58/100\n",
      "659/659 [==============================] - 0s - loss: 1.9019 - mean_squared_error: 1.9019 - val_loss: 2.9847 - val_mean_squared_error: 2.9847\n",
      "Epoch 59/100\n",
      "659/659 [==============================] - 0s - loss: 1.8889 - mean_squared_error: 1.8889 - val_loss: 2.2873 - val_mean_squared_error: 2.2873\n",
      "Epoch 60/100\n",
      "659/659 [==============================] - 0s - loss: 1.7434 - mean_squared_error: 1.7434 - val_loss: 3.1049 - val_mean_squared_error: 3.1049\n",
      "Epoch 61/100\n",
      "659/659 [==============================] - 0s - loss: 1.7862 - mean_squared_error: 1.7862 - val_loss: 2.4156 - val_mean_squared_error: 2.4156\n",
      "Epoch 62/100\n",
      "659/659 [==============================] - 0s - loss: 1.8744 - mean_squared_error: 1.8744 - val_loss: 3.1731 - val_mean_squared_error: 3.1731\n",
      "Epoch 63/100\n",
      "659/659 [==============================] - 0s - loss: 1.9407 - mean_squared_error: 1.9407 - val_loss: 2.4277 - val_mean_squared_error: 2.4277\n",
      "Epoch 64/100\n",
      "659/659 [==============================] - 0s - loss: 1.7805 - mean_squared_error: 1.7805 - val_loss: 2.8092 - val_mean_squared_error: 2.8092\n",
      "Epoch 65/100\n",
      "659/659 [==============================] - 0s - loss: 1.7389 - mean_squared_error: 1.7389 - val_loss: 2.6407 - val_mean_squared_error: 2.6407\n",
      "Epoch 66/100\n",
      "659/659 [==============================] - 0s - loss: 1.6656 - mean_squared_error: 1.6656 - val_loss: 2.6510 - val_mean_squared_error: 2.6510\n",
      "Epoch 67/100\n",
      "659/659 [==============================] - 0s - loss: 1.7810 - mean_squared_error: 1.7810 - val_loss: 2.7779 - val_mean_squared_error: 2.7779\n",
      "Epoch 68/100\n",
      "659/659 [==============================] - 0s - loss: 1.7220 - mean_squared_error: 1.7220 - val_loss: 2.6977 - val_mean_squared_error: 2.6977\n",
      "Epoch 69/100\n",
      "659/659 [==============================] - 0s - loss: 1.7959 - mean_squared_error: 1.7959 - val_loss: 2.6843 - val_mean_squared_error: 2.6843\n",
      "Epoch 70/100\n",
      "659/659 [==============================] - 0s - loss: 1.8559 - mean_squared_error: 1.8559 - val_loss: 2.4668 - val_mean_squared_error: 2.4668\n",
      "Epoch 71/100\n",
      "659/659 [==============================] - 0s - loss: 1.8814 - mean_squared_error: 1.8814 - val_loss: 2.4772 - val_mean_squared_error: 2.4772\n",
      "Epoch 72/100\n",
      "659/659 [==============================] - 0s - loss: 1.8009 - mean_squared_error: 1.8009 - val_loss: 2.6245 - val_mean_squared_error: 2.6245\n",
      "Epoch 73/100\n",
      "659/659 [==============================] - 0s - loss: 1.6092 - mean_squared_error: 1.6092 - val_loss: 2.5295 - val_mean_squared_error: 2.5295\n",
      "Epoch 74/100\n",
      "659/659 [==============================] - 0s - loss: 1.8527 - mean_squared_error: 1.8527 - val_loss: 2.4668 - val_mean_squared_error: 2.4668\n",
      "Epoch 75/100\n",
      "659/659 [==============================] - 0s - loss: 1.7136 - mean_squared_error: 1.7136 - val_loss: 2.5513 - val_mean_squared_error: 2.5513\n",
      "Epoch 76/100\n",
      "659/659 [==============================] - 0s - loss: 1.6820 - mean_squared_error: 1.6820 - val_loss: 2.4410 - val_mean_squared_error: 2.4410\n",
      "Epoch 77/100\n",
      "659/659 [==============================] - 0s - loss: 1.6265 - mean_squared_error: 1.6265 - val_loss: 2.6836 - val_mean_squared_error: 2.6836\n",
      "Epoch 78/100\n",
      "659/659 [==============================] - 0s - loss: 1.6101 - mean_squared_error: 1.6101 - val_loss: 2.4932 - val_mean_squared_error: 2.4932\n",
      "Epoch 79/100\n",
      "659/659 [==============================] - 0s - loss: 1.7137 - mean_squared_error: 1.7137 - val_loss: 2.5423 - val_mean_squared_error: 2.5423\n",
      "Epoch 80/100\n",
      "659/659 [==============================] - 0s - loss: 1.6456 - mean_squared_error: 1.6456 - val_loss: 2.7270 - val_mean_squared_error: 2.7270\n",
      "Epoch 81/100\n",
      "659/659 [==============================] - 0s - loss: 1.6736 - mean_squared_error: 1.6736 - val_loss: 2.2263 - val_mean_squared_error: 2.2263\n",
      "Epoch 82/100\n",
      "659/659 [==============================] - 0s - loss: 1.7498 - mean_squared_error: 1.7498 - val_loss: 2.2186 - val_mean_squared_error: 2.2186\n",
      "Epoch 83/100\n",
      "659/659 [==============================] - 0s - loss: 1.5587 - mean_squared_error: 1.5587 - val_loss: 2.4108 - val_mean_squared_error: 2.4108\n",
      "Epoch 84/100\n",
      "659/659 [==============================] - 0s - loss: 1.7094 - mean_squared_error: 1.7094 - val_loss: 2.2993 - val_mean_squared_error: 2.2993\n",
      "Epoch 85/100\n",
      "659/659 [==============================] - 0s - loss: 1.6668 - mean_squared_error: 1.6668 - val_loss: 2.5125 - val_mean_squared_error: 2.5125\n",
      "Epoch 86/100\n",
      "659/659 [==============================] - 0s - loss: 1.5790 - mean_squared_error: 1.5790 - val_loss: 2.2210 - val_mean_squared_error: 2.2210\n",
      "Epoch 87/100\n",
      "659/659 [==============================] - 0s - loss: 1.6107 - mean_squared_error: 1.6107 - val_loss: 2.8559 - val_mean_squared_error: 2.8559\n",
      "Epoch 88/100\n",
      "659/659 [==============================] - 0s - loss: 1.5745 - mean_squared_error: 1.5745 - val_loss: 2.5748 - val_mean_squared_error: 2.5748\n",
      "Epoch 89/100\n",
      "659/659 [==============================] - 0s - loss: 1.5189 - mean_squared_error: 1.5189 - val_loss: 2.3320 - val_mean_squared_error: 2.3320\n",
      "Epoch 90/100\n",
      "659/659 [==============================] - 0s - loss: 1.5591 - mean_squared_error: 1.5591 - val_loss: 2.3230 - val_mean_squared_error: 2.3230\n",
      "Epoch 91/100\n",
      "659/659 [==============================] - 0s - loss: 1.5906 - mean_squared_error: 1.5906 - val_loss: 2.3096 - val_mean_squared_error: 2.3096\n",
      "Epoch 92/100\n",
      "659/659 [==============================] - 0s - loss: 1.8271 - mean_squared_error: 1.8271 - val_loss: 2.2492 - val_mean_squared_error: 2.2492\n",
      "Epoch 93/100\n",
      "659/659 [==============================] - 0s - loss: 1.6293 - mean_squared_error: 1.6293 - val_loss: 2.7519 - val_mean_squared_error: 2.7519\n",
      "Epoch 94/100\n",
      "659/659 [==============================] - 0s - loss: 1.6248 - mean_squared_error: 1.6248 - val_loss: 2.2089 - val_mean_squared_error: 2.2089\n",
      "Epoch 95/100\n",
      "659/659 [==============================] - 0s - loss: 1.5271 - mean_squared_error: 1.5271 - val_loss: 2.1652 - val_mean_squared_error: 2.1652\n",
      "Epoch 96/100\n",
      "659/659 [==============================] - 0s - loss: 1.4335 - mean_squared_error: 1.4335 - val_loss: 2.6558 - val_mean_squared_error: 2.6558\n",
      "Epoch 97/100\n",
      "659/659 [==============================] - 0s - loss: 1.5441 - mean_squared_error: 1.5441 - val_loss: 2.9533 - val_mean_squared_error: 2.9533\n",
      "Epoch 98/100\n",
      "659/659 [==============================] - 0s - loss: 1.3765 - mean_squared_error: 1.3765 - val_loss: 2.2094 - val_mean_squared_error: 2.2094\n",
      "Epoch 99/100\n",
      "659/659 [==============================] - 0s - loss: 1.5794 - mean_squared_error: 1.5794 - val_loss: 2.4390 - val_mean_squared_error: 2.4390\n",
      "Epoch 100/100\n",
      "659/659 [==============================] - 0s - loss: 1.4964 - mean_squared_error: 1.4964 - val_loss: 2.1460 - val_mean_squared_error: 2.1460\n"
     ]
    },
    {
     "data": {
      "text/plain": [
       "<keras.callbacks.History at 0x2b8d1306a438>"
      ]
     },
     "execution_count": 130,
     "metadata": {},
     "output_type": "execute_result"
    }
   ],
   "source": [
    "model.fit(train_features, train_labels, epochs=100, batch_size=32,shuffle=True,\n",
    "                validation_data=(test_features, test_labels))"
   ]
  },
  {
   "cell_type": "code",
   "execution_count": 131,
   "metadata": {},
   "outputs": [
    {
     "data": {
      "text/plain": [
       "(list, numpy.float64)"
      ]
     },
     "execution_count": 131,
     "metadata": {},
     "output_type": "execute_result"
    }
   ],
   "source": [
    "type(test_predict),type(test_labels[1])"
   ]
  },
  {
   "cell_type": "code",
   "execution_count": 132,
   "metadata": {},
   "outputs": [
    {
     "name": "stdout",
     "output_type": "stream",
     "text": [
      "100\n",
      "1.54377787527\n"
     ]
    }
   ],
   "source": [
    "from sklearn.metrics import mean_squared_error\n",
    "\n",
    "test_predict = []\n",
    "test_labels_2=[]\n",
    "for i in range(100):\n",
    "    if data_test[i].logMstar!=-99:\n",
    "        test_predict.append(model.predict(test_features[i].reshape(1,-1))[0][0])\n",
    "        test_labels_2.append(test_labels[i])\n",
    "print(len(test_predict))\n",
    "print(mean_squared_error(np.asarray(test_predict), np.asarray(test_labels_2)))\n"
   ]
  },
  {
   "cell_type": "code",
   "execution_count": null,
   "metadata": {
    "collapsed": true
   },
   "outputs": [],
   "source": []
  }
 ],
 "metadata": {
  "kernelspec": {
   "display_name": "Python 3",
   "language": "python",
   "name": "python3"
  },
  "language_info": {
   "codemirror_mode": {
    "name": "ipython",
    "version": 3
   },
   "file_extension": ".py",
   "mimetype": "text/x-python",
   "name": "python",
   "nbconvert_exporter": "python",
   "pygments_lexer": "ipython3",
   "version": "3.6.1"
  }
 },
 "nbformat": 4,
 "nbformat_minor": 2
}
