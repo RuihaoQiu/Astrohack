{
 "cells": [
  {
   "cell_type": "code",
   "execution_count": 42,
   "metadata": {},
   "outputs": [],
   "source": [
    "import sys\n",
    "import os\n",
    "\n",
    "sys.path.append(\"../Pre_processing\")\n",
    "\n",
    "from Data_Preparation_Library import *\n",
    "from sklearn.preprocessing import StandardScaler\n",
    "from sklearn.preprocessing import MinMaxScaler"
   ]
  },
  {
   "cell_type": "code",
   "execution_count": 2,
   "metadata": {
    "collapsed": true
   },
   "outputs": [],
   "source": [
    "#selectedBatches=[\"6\",\"7\",\"8\",\"9\",\"10\",\"11\",\"12\",\"13\",\"14\",\"15\",\"16\",\"17\",\"18\",\"19\",\"20\"]\n",
    "maxBatchId = 1\n",
    "selectedBatches=[str(i) for i in range(maxBatchId)]\n",
    "\n",
    "batch_data_object = []\n",
    "for i in selectedBatches:\n",
    "    with open(os.path.join(temp_path,'full_data_object_' + i + '.p'), 'rb') as handle:\n",
    "        batch_data_object+=pickle.load(handle)\n",
    "\n",
    "data_train = batch_data_object[0:int(len(batch_data_object)*2/3)]\n",
    "data_test  = batch_data_object[int(len(batch_data_object)*2/3):]"
   ]
  },
  {
   "cell_type": "code",
   "execution_count": 3,
   "metadata": {
    "collapsed": true
   },
   "outputs": [],
   "source": [
    "def flux(d):\n",
    "  # TODO: get flux_i from model\n",
    "    if d.i_image != None:\n",
    "        flux_i = sum(sum(d.i_image))\n",
    "    else:\n",
    "        flux_i = 0\n",
    "    flux_g = sum(sum(d.g_image))\n",
    "    #return flux_i+flux_g, flux_g-flux_i\n",
    "    return flux_g"
   ]
  },
  {
   "cell_type": "raw",
   "metadata": {},
   "source": []
  },
  {
   "cell_type": "code",
   "execution_count": 4,
   "metadata": {
    "collapsed": true
   },
   "outputs": [],
   "source": [
    "with open(os.path.join(output_path,\"encoder_results_train_v2_\" + \"_\".join(selectedBatches)),'rb') as handle:\n",
    "    encoded_imgs1=pickle.load(handle)\n",
    "    encoded_imgs_reshaped_train = [e.reshape(-1,1) for e in encoded_imgs1]\n",
    "\n",
    "with open(os.path.join(output_path,\"encoder_results_test_v2_\" + \"_\".join(selectedBatches)),'rb') as handle:\n",
    "    encoded_imgs2=pickle.load(handle)\n",
    "    encoded_imgs_reshaped_test = [e.reshape(-1,1) for e in encoded_imgs2]\n"
   ]
  },
  {
   "cell_type": "code",
   "execution_count": 78,
   "metadata": {},
   "outputs": [
    {
     "ename": "SyntaxError",
     "evalue": "unexpected EOF while parsing (<ipython-input-78-f89bb59a94fa>, line 3)",
     "output_type": "error",
     "traceback": [
      "\u001b[0;36m  File \u001b[0;32m\"<ipython-input-78-f89bb59a94fa>\"\u001b[0;36m, line \u001b[0;32m3\u001b[0m\n\u001b[0;31m    #  return [v1_i,v2_i,v1_i/v2_i,v2_i/v1_i, v1_g,v2_g,v1_g/v2_g,v2_g/v1_g]\u001b[0m\n\u001b[0m                                                                            ^\u001b[0m\n\u001b[0;31mSyntaxError\u001b[0m\u001b[0;31m:\u001b[0m unexpected EOF while parsing\n"
     ]
    }
   ],
   "source": [
    "def pca_feature(d):\n",
    "    \n",
    "#  return [v1_i,v2_i,v1_i/v2_i,v2_i/v1_i, v1_g,v2_g,v1_g/v2_g,v2_g/v1_g]\n"
   ]
  },
  {
   "cell_type": "code",
   "execution_count": 91,
   "metadata": {},
   "outputs": [
    {
     "name": "stdout",
     "output_type": "stream",
     "text": [
      "(659, 4100) (659,)\n"
     ]
    }
   ],
   "source": [
    "# accessible in the class: size of image, maximum of image, normalization factor of g + fitted value of normalization factor for i\n",
    "# define a function to get the training and testing dataset\n",
    "\n",
    "def obtain_train_data():\n",
    "    train_features = []\n",
    "    train_labels = []\n",
    "    for i in range(len(data_train)):\n",
    "        if data_train[i].logMstar!=-99:\n",
    "            e = encoded_imgs_reshaped_train[i]\n",
    "            d = data_train[i]\n",
    "            #f1,f2 = flux(d)\n",
    "            f = flux(d)\n",
    "            size_1=d.g_image.shape[0]\n",
    "            size_2=d.g_image.shape[1]\n",
    "            img_max=d.g_image.max()\n",
    "            train_features.append(np.append(e,np.array([f,size_1,size_2,img_max])))\n",
    "            train_labels.append(d.logMstar)\n",
    "    return train_features, train_labels\n",
    "\n",
    "train_features = np.asarray(obtain_train_data()[0])\n",
    "train_labels = np.asarray(obtain_train_data()[1])\n",
    "\n",
    "print(train_features.shape, train_labels.shape)"
   ]
  },
  {
   "cell_type": "code",
   "execution_count": 92,
   "metadata": {},
   "outputs": [
    {
     "name": "stdout",
     "output_type": "stream",
     "text": [
      "(325, 4100) (325,)\n"
     ]
    }
   ],
   "source": [
    "def obtain_test_data():\n",
    "    test_features = []\n",
    "    test_labels = []\n",
    "    for j in range(len(data_test)):\n",
    "        if data_test[j].logMstar!=-99:\n",
    "            e = encoded_imgs_reshaped_test[j]\n",
    "            d = data_test[j]\n",
    "\n",
    "        #f1,f2 = flux(d)\n",
    "            f = flux(d)\n",
    "            size_1=d.g_image.shape[0]\n",
    "            size_2=d.g_image.shape[1]\n",
    "            img_max=d.g_image.max()\n",
    "            test_features.append(np.append(e,np.array([f,size_1,size_2,img_max])))\n",
    "            test_labels.append(d.logMstar)\n",
    "\n",
    "    return test_features, test_labels\n",
    "\n",
    "test_features = np.asarray(obtain_test_data()[0])\n",
    "test_labels = np.asarray(obtain_test_data()[1])\n",
    "\n",
    "print(test_features.shape, test_labels.shape)"
   ]
  },
  {
   "cell_type": "code",
   "execution_count": 93,
   "metadata": {},
   "outputs": [
    {
     "name": "stdout",
     "output_type": "stream",
     "text": [
      "[[-0.46823421 -0.5080603   0.02156935 ..., -0.08512842 -0.08512842\n",
      "  -0.31407447]\n",
      " [-0.37778186  0.01002213  0.36101057 ...,  1.97956789  1.97956789\n",
      "  -0.3734218 ]\n",
      " [-0.31466022 -0.04653447  0.02059651 ...,  1.35231838  1.35231838\n",
      "   1.8731427 ]\n",
      " [-0.34544549  0.51801735  0.59461292 ..., -0.45102397 -0.45102397\n",
      "  -0.4427597 ]\n",
      " [ 0.5452832   1.31677986  0.74994534 ..., -0.56863325 -0.56863325\n",
      "  -0.42390013]] [[ 0.15133955 -1.55998065 -0.05018915 ...,  0.01941317  0.01941317\n",
      "  -0.41906929]\n",
      " [-0.31818065  0.05129635  0.23653529 ...,  1.888094    1.888094\n",
      "  -0.11246488]\n",
      " [ 0.8351674   1.77883233  1.02854044 ..., -0.49022706 -0.49022706\n",
      "  -0.44070063]\n",
      " [-0.48722797 -0.36853051  0.03476775 ...,  0.01941317  0.01941317\n",
      "  -0.30787221]\n",
      " [-0.51023902 -1.52314199 -1.47030972 ..., -0.52943016 -0.52943016\n",
      "  -0.42655866]]\n"
     ]
    }
   ],
   "source": [
    "# ## transform features\n",
    "# train_features = StandardScaler().fit_transform(train_features)\n",
    "# test_features = StandardScaler().transform(test_features)\n",
    "# #features = MinMaxScaler().fit_transform(features)\n",
    "\n",
    "X_scaler = StandardScaler()\n",
    "train_features = X_scaler.fit_transform(train_features)\n",
    "test_features = X_scaler.transform(test_features)\n",
    "\n",
    "print(train_features[:5], test_features[:5])"
   ]
  },
  {
   "cell_type": "code",
   "execution_count": 94,
   "metadata": {
    "collapsed": true
   },
   "outputs": [],
   "source": [
    "from keras.models import Sequential\n",
    "from keras.layers import Dense, Activation\n",
    "from keras.layers.core import Dropout"
   ]
  },
  {
   "cell_type": "code",
   "execution_count": 146,
   "metadata": {},
   "outputs": [],
   "source": [
    "model = Sequential()\n",
    "model.add(Dense(64, activation='relu', input_dim=train_features.shape[1]))\n",
    "model.add(Dropout(0.1))\n",
    "model.add(Dense(32, activation='relu'))\n",
    "model.add(Dropout(0.1))\n",
    "model.add(Dense(1,activation='relu'))\n",
    "model.compile(optimizer='Adadelta',\n",
    "              loss='mse',\n",
    "              metrics=['mse'])"
   ]
  },
  {
   "cell_type": "code",
   "execution_count": 147,
   "metadata": {
    "scrolled": true
   },
   "outputs": [
    {
     "name": "stdout",
     "output_type": "stream",
     "text": [
      "Train on 659 samples, validate on 325 samples\n",
      "Epoch 1/100\n",
      "659/659 [==============================] - 0s - loss: 49.4105 - mean_squared_error: 49.4105 - val_loss: 16.3509 - val_mean_squared_error: 16.3509\n",
      "Epoch 2/100\n",
      "659/659 [==============================] - 0s - loss: 16.6761 - mean_squared_error: 16.6761 - val_loss: 9.4215 - val_mean_squared_error: 9.4215\n",
      "Epoch 3/100\n",
      "659/659 [==============================] - 0s - loss: 9.4558 - mean_squared_error: 9.4558 - val_loss: 8.3818 - val_mean_squared_error: 8.3818\n",
      "Epoch 4/100\n",
      "659/659 [==============================] - 0s - loss: 7.4211 - mean_squared_error: 7.4211 - val_loss: 6.5050 - val_mean_squared_error: 6.5050\n",
      "Epoch 5/100\n",
      "659/659 [==============================] - 0s - loss: 5.7277 - mean_squared_error: 5.7277 - val_loss: 6.1297 - val_mean_squared_error: 6.1297\n",
      "Epoch 6/100\n",
      "659/659 [==============================] - 0s - loss: 5.1393 - mean_squared_error: 5.1393 - val_loss: 5.1976 - val_mean_squared_error: 5.1976\n",
      "Epoch 7/100\n",
      "659/659 [==============================] - 0s - loss: 4.4974 - mean_squared_error: 4.4974 - val_loss: 4.7880 - val_mean_squared_error: 4.7880\n",
      "Epoch 8/100\n",
      "659/659 [==============================] - 0s - loss: 4.2382 - mean_squared_error: 4.2382 - val_loss: 4.6211 - val_mean_squared_error: 4.6211\n",
      "Epoch 9/100\n",
      "659/659 [==============================] - 0s - loss: 3.8068 - mean_squared_error: 3.8068 - val_loss: 4.1512 - val_mean_squared_error: 4.1512\n",
      "Epoch 10/100\n",
      "659/659 [==============================] - 0s - loss: 3.2615 - mean_squared_error: 3.2615 - val_loss: 4.1478 - val_mean_squared_error: 4.1478\n",
      "Epoch 11/100\n",
      "659/659 [==============================] - 0s - loss: 3.9648 - mean_squared_error: 3.9648 - val_loss: 4.1199 - val_mean_squared_error: 4.1199\n",
      "Epoch 12/100\n",
      "659/659 [==============================] - 0s - loss: 3.5095 - mean_squared_error: 3.5095 - val_loss: 4.2475 - val_mean_squared_error: 4.2475\n",
      "Epoch 13/100\n",
      "659/659 [==============================] - 0s - loss: 3.5264 - mean_squared_error: 3.5264 - val_loss: 3.5982 - val_mean_squared_error: 3.5982\n",
      "Epoch 14/100\n",
      "659/659 [==============================] - 0s - loss: 3.4037 - mean_squared_error: 3.4037 - val_loss: 4.3447 - val_mean_squared_error: 4.3447\n",
      "Epoch 15/100\n",
      "659/659 [==============================] - 0s - loss: 3.0962 - mean_squared_error: 3.0962 - val_loss: 3.7836 - val_mean_squared_error: 3.7836\n",
      "Epoch 16/100\n",
      "659/659 [==============================] - 0s - loss: 2.9858 - mean_squared_error: 2.9858 - val_loss: 4.0567 - val_mean_squared_error: 4.0567\n",
      "Epoch 17/100\n",
      "659/659 [==============================] - 0s - loss: 2.9367 - mean_squared_error: 2.9367 - val_loss: 3.2309 - val_mean_squared_error: 3.2309\n",
      "Epoch 18/100\n",
      "659/659 [==============================] - 0s - loss: 3.2293 - mean_squared_error: 3.2293 - val_loss: 3.6536 - val_mean_squared_error: 3.6536\n",
      "Epoch 19/100\n",
      "659/659 [==============================] - 0s - loss: 2.8296 - mean_squared_error: 2.8296 - val_loss: 3.0365 - val_mean_squared_error: 3.0365\n",
      "Epoch 20/100\n",
      "659/659 [==============================] - 0s - loss: 2.5929 - mean_squared_error: 2.5929 - val_loss: 3.6033 - val_mean_squared_error: 3.6033\n",
      "Epoch 21/100\n",
      "659/659 [==============================] - 0s - loss: 3.3453 - mean_squared_error: 3.3453 - val_loss: 3.4141 - val_mean_squared_error: 3.4141\n",
      "Epoch 22/100\n",
      "659/659 [==============================] - 0s - loss: 2.3765 - mean_squared_error: 2.3765 - val_loss: 3.6320 - val_mean_squared_error: 3.6320\n",
      "Epoch 23/100\n",
      "659/659 [==============================] - 0s - loss: 3.0486 - mean_squared_error: 3.0486 - val_loss: 3.8572 - val_mean_squared_error: 3.8572\n",
      "Epoch 24/100\n",
      "659/659 [==============================] - 0s - loss: 2.5701 - mean_squared_error: 2.5701 - val_loss: 3.0641 - val_mean_squared_error: 3.0641\n",
      "Epoch 25/100\n",
      "659/659 [==============================] - 0s - loss: 2.8142 - mean_squared_error: 2.8142 - val_loss: 3.0767 - val_mean_squared_error: 3.0767\n",
      "Epoch 26/100\n",
      "659/659 [==============================] - 0s - loss: 2.4743 - mean_squared_error: 2.4743 - val_loss: 3.0820 - val_mean_squared_error: 3.0820\n",
      "Epoch 27/100\n",
      "659/659 [==============================] - 0s - loss: 2.6478 - mean_squared_error: 2.6478 - val_loss: 2.8566 - val_mean_squared_error: 2.8566\n",
      "Epoch 28/100\n",
      "659/659 [==============================] - 0s - loss: 2.4242 - mean_squared_error: 2.4242 - val_loss: 3.0971 - val_mean_squared_error: 3.0971\n",
      "Epoch 29/100\n",
      "659/659 [==============================] - 0s - loss: 2.5588 - mean_squared_error: 2.5588 - val_loss: 3.2066 - val_mean_squared_error: 3.2066\n",
      "Epoch 30/100\n",
      "659/659 [==============================] - 0s - loss: 2.5979 - mean_squared_error: 2.5979 - val_loss: 2.8310 - val_mean_squared_error: 2.8310\n",
      "Epoch 31/100\n",
      "659/659 [==============================] - 0s - loss: 2.4801 - mean_squared_error: 2.4801 - val_loss: 2.8299 - val_mean_squared_error: 2.8299\n",
      "Epoch 32/100\n",
      "659/659 [==============================] - 0s - loss: 2.4221 - mean_squared_error: 2.4221 - val_loss: 2.4971 - val_mean_squared_error: 2.4971\n",
      "Epoch 33/100\n",
      "659/659 [==============================] - 0s - loss: 2.4735 - mean_squared_error: 2.4735 - val_loss: 3.3482 - val_mean_squared_error: 3.3482\n",
      "Epoch 34/100\n",
      "659/659 [==============================] - 0s - loss: 2.3527 - mean_squared_error: 2.3527 - val_loss: 3.2958 - val_mean_squared_error: 3.2958\n",
      "Epoch 35/100\n",
      "659/659 [==============================] - 0s - loss: 2.3399 - mean_squared_error: 2.3399 - val_loss: 2.9605 - val_mean_squared_error: 2.9605\n",
      "Epoch 36/100\n",
      "659/659 [==============================] - 0s - loss: 2.4078 - mean_squared_error: 2.4078 - val_loss: 3.2754 - val_mean_squared_error: 3.2754\n",
      "Epoch 37/100\n",
      "659/659 [==============================] - 0s - loss: 2.3876 - mean_squared_error: 2.3876 - val_loss: 2.9751 - val_mean_squared_error: 2.9751\n",
      "Epoch 38/100\n",
      "659/659 [==============================] - 0s - loss: 2.4942 - mean_squared_error: 2.4942 - val_loss: 2.7408 - val_mean_squared_error: 2.7408\n",
      "Epoch 39/100\n",
      "659/659 [==============================] - 0s - loss: 2.1201 - mean_squared_error: 2.1201 - val_loss: 2.5921 - val_mean_squared_error: 2.5921\n",
      "Epoch 40/100\n",
      "659/659 [==============================] - 0s - loss: 2.0811 - mean_squared_error: 2.0811 - val_loss: 3.9323 - val_mean_squared_error: 3.9323\n",
      "Epoch 41/100\n",
      "659/659 [==============================] - 0s - loss: 2.2517 - mean_squared_error: 2.2517 - val_loss: 3.1281 - val_mean_squared_error: 3.1281\n",
      "Epoch 42/100\n",
      "659/659 [==============================] - 0s - loss: 2.2563 - mean_squared_error: 2.2563 - val_loss: 3.0538 - val_mean_squared_error: 3.0538\n",
      "Epoch 43/100\n",
      "659/659 [==============================] - 0s - loss: 2.3722 - mean_squared_error: 2.3722 - val_loss: 2.7925 - val_mean_squared_error: 2.7925\n",
      "Epoch 44/100\n",
      "659/659 [==============================] - 0s - loss: 2.2456 - mean_squared_error: 2.2456 - val_loss: 3.3037 - val_mean_squared_error: 3.3037\n",
      "Epoch 45/100\n",
      "659/659 [==============================] - 0s - loss: 2.2861 - mean_squared_error: 2.2861 - val_loss: 3.1627 - val_mean_squared_error: 3.1627\n",
      "Epoch 46/100\n",
      "659/659 [==============================] - 0s - loss: 2.1961 - mean_squared_error: 2.1961 - val_loss: 2.8521 - val_mean_squared_error: 2.8521\n",
      "Epoch 47/100\n",
      "659/659 [==============================] - 0s - loss: 1.9966 - mean_squared_error: 1.9966 - val_loss: 2.7496 - val_mean_squared_error: 2.7496\n",
      "Epoch 48/100\n",
      "659/659 [==============================] - 0s - loss: 2.1851 - mean_squared_error: 2.1851 - val_loss: 3.0084 - val_mean_squared_error: 3.0084\n",
      "Epoch 49/100\n",
      "659/659 [==============================] - 0s - loss: 2.0316 - mean_squared_error: 2.0316 - val_loss: 3.0290 - val_mean_squared_error: 3.0290\n",
      "Epoch 50/100\n",
      "659/659 [==============================] - 0s - loss: 2.1500 - mean_squared_error: 2.1500 - val_loss: 2.7364 - val_mean_squared_error: 2.7364\n",
      "Epoch 51/100\n",
      "659/659 [==============================] - 0s - loss: 2.0064 - mean_squared_error: 2.0064 - val_loss: 2.5131 - val_mean_squared_error: 2.5131\n",
      "Epoch 52/100\n",
      "659/659 [==============================] - 0s - loss: 2.1005 - mean_squared_error: 2.1005 - val_loss: 2.9680 - val_mean_squared_error: 2.9680\n",
      "Epoch 53/100\n"
     ]
    },
    {
     "name": "stdout",
     "output_type": "stream",
     "text": [
      "659/659 [==============================] - 0s - loss: 2.1665 - mean_squared_error: 2.1665 - val_loss: 2.7395 - val_mean_squared_error: 2.7395\n",
      "Epoch 54/100\n",
      "659/659 [==============================] - 0s - loss: 2.0714 - mean_squared_error: 2.0714 - val_loss: 2.4513 - val_mean_squared_error: 2.4513\n",
      "Epoch 55/100\n",
      "659/659 [==============================] - 0s - loss: 2.0632 - mean_squared_error: 2.0632 - val_loss: 2.8572 - val_mean_squared_error: 2.8572\n",
      "Epoch 56/100\n",
      "659/659 [==============================] - 0s - loss: 2.0304 - mean_squared_error: 2.0304 - val_loss: 2.5620 - val_mean_squared_error: 2.5620\n",
      "Epoch 57/100\n",
      "659/659 [==============================] - 0s - loss: 1.9261 - mean_squared_error: 1.9261 - val_loss: 2.2198 - val_mean_squared_error: 2.2198\n",
      "Epoch 58/100\n",
      "659/659 [==============================] - 0s - loss: 2.0851 - mean_squared_error: 2.0851 - val_loss: 2.5267 - val_mean_squared_error: 2.5267\n",
      "Epoch 59/100\n",
      "659/659 [==============================] - 0s - loss: 1.6717 - mean_squared_error: 1.6717 - val_loss: 2.5397 - val_mean_squared_error: 2.5397\n",
      "Epoch 60/100\n",
      "659/659 [==============================] - 0s - loss: 1.8976 - mean_squared_error: 1.8976 - val_loss: 2.1185 - val_mean_squared_error: 2.1185\n",
      "Epoch 61/100\n",
      "659/659 [==============================] - 0s - loss: 1.9480 - mean_squared_error: 1.9480 - val_loss: 2.2777 - val_mean_squared_error: 2.2777\n",
      "Epoch 62/100\n",
      "659/659 [==============================] - 0s - loss: 1.9712 - mean_squared_error: 1.9712 - val_loss: 2.4710 - val_mean_squared_error: 2.4710\n",
      "Epoch 63/100\n",
      "659/659 [==============================] - 0s - loss: 2.0765 - mean_squared_error: 2.0765 - val_loss: 2.3370 - val_mean_squared_error: 2.3370\n",
      "Epoch 64/100\n",
      "659/659 [==============================] - 0s - loss: 1.8483 - mean_squared_error: 1.8483 - val_loss: 2.3003 - val_mean_squared_error: 2.3003\n",
      "Epoch 65/100\n",
      "659/659 [==============================] - 0s - loss: 2.0519 - mean_squared_error: 2.0519 - val_loss: 2.7380 - val_mean_squared_error: 2.7380\n",
      "Epoch 66/100\n",
      "659/659 [==============================] - 0s - loss: 1.7054 - mean_squared_error: 1.7054 - val_loss: 2.5021 - val_mean_squared_error: 2.5021\n",
      "Epoch 67/100\n",
      "659/659 [==============================] - 0s - loss: 1.8901 - mean_squared_error: 1.8901 - val_loss: 2.8609 - val_mean_squared_error: 2.8609\n",
      "Epoch 68/100\n",
      "659/659 [==============================] - 0s - loss: 2.0303 - mean_squared_error: 2.0303 - val_loss: 2.8203 - val_mean_squared_error: 2.8203\n",
      "Epoch 69/100\n",
      "659/659 [==============================] - 0s - loss: 1.8588 - mean_squared_error: 1.8588 - val_loss: 2.6097 - val_mean_squared_error: 2.6097\n",
      "Epoch 70/100\n",
      "659/659 [==============================] - 0s - loss: 1.8123 - mean_squared_error: 1.8123 - val_loss: 2.6667 - val_mean_squared_error: 2.6667\n",
      "Epoch 71/100\n",
      "659/659 [==============================] - 0s - loss: 1.6640 - mean_squared_error: 1.6640 - val_loss: 2.6076 - val_mean_squared_error: 2.6076\n",
      "Epoch 72/100\n",
      "659/659 [==============================] - 0s - loss: 1.6704 - mean_squared_error: 1.6704 - val_loss: 2.4715 - val_mean_squared_error: 2.4715\n",
      "Epoch 73/100\n",
      "659/659 [==============================] - 0s - loss: 1.7108 - mean_squared_error: 1.7108 - val_loss: 2.8281 - val_mean_squared_error: 2.8281\n",
      "Epoch 74/100\n",
      "659/659 [==============================] - 0s - loss: 1.7060 - mean_squared_error: 1.7060 - val_loss: 2.7130 - val_mean_squared_error: 2.7130\n",
      "Epoch 75/100\n",
      "659/659 [==============================] - 0s - loss: 1.7436 - mean_squared_error: 1.7436 - val_loss: 2.2064 - val_mean_squared_error: 2.2064\n",
      "Epoch 76/100\n",
      "659/659 [==============================] - 0s - loss: 1.7397 - mean_squared_error: 1.7397 - val_loss: 2.4303 - val_mean_squared_error: 2.4303\n",
      "Epoch 77/100\n",
      "659/659 [==============================] - 0s - loss: 1.9692 - mean_squared_error: 1.9692 - val_loss: 2.2234 - val_mean_squared_error: 2.2234\n",
      "Epoch 78/100\n",
      "659/659 [==============================] - 0s - loss: 1.9795 - mean_squared_error: 1.9795 - val_loss: 2.5242 - val_mean_squared_error: 2.5242\n",
      "Epoch 79/100\n",
      "659/659 [==============================] - 0s - loss: 1.7103 - mean_squared_error: 1.7103 - val_loss: 2.5276 - val_mean_squared_error: 2.5276\n",
      "Epoch 80/100\n",
      "659/659 [==============================] - 0s - loss: 1.4490 - mean_squared_error: 1.4490 - val_loss: 2.6165 - val_mean_squared_error: 2.6165\n",
      "Epoch 81/100\n",
      "659/659 [==============================] - 0s - loss: 1.7533 - mean_squared_error: 1.7533 - val_loss: 2.5944 - val_mean_squared_error: 2.5944\n",
      "Epoch 82/100\n",
      "659/659 [==============================] - 0s - loss: 1.9001 - mean_squared_error: 1.9001 - val_loss: 2.3493 - val_mean_squared_error: 2.3493\n",
      "Epoch 83/100\n",
      "659/659 [==============================] - 0s - loss: 1.7537 - mean_squared_error: 1.7537 - val_loss: 2.2213 - val_mean_squared_error: 2.2213\n",
      "Epoch 84/100\n",
      "659/659 [==============================] - 0s - loss: 1.8860 - mean_squared_error: 1.8860 - val_loss: 2.2689 - val_mean_squared_error: 2.2689\n",
      "Epoch 85/100\n",
      "659/659 [==============================] - 0s - loss: 1.7442 - mean_squared_error: 1.7442 - val_loss: 1.9749 - val_mean_squared_error: 1.9749\n",
      "Epoch 86/100\n",
      "659/659 [==============================] - 0s - loss: 1.6047 - mean_squared_error: 1.6047 - val_loss: 3.2487 - val_mean_squared_error: 3.2487\n",
      "Epoch 87/100\n",
      "659/659 [==============================] - 0s - loss: 1.7264 - mean_squared_error: 1.7264 - val_loss: 2.0184 - val_mean_squared_error: 2.0184\n",
      "Epoch 88/100\n",
      "659/659 [==============================] - 0s - loss: 1.7154 - mean_squared_error: 1.7154 - val_loss: 2.3464 - val_mean_squared_error: 2.3464\n",
      "Epoch 89/100\n",
      "659/659 [==============================] - 0s - loss: 1.5799 - mean_squared_error: 1.5799 - val_loss: 2.3073 - val_mean_squared_error: 2.3073\n",
      "Epoch 90/100\n",
      "659/659 [==============================] - 0s - loss: 1.5758 - mean_squared_error: 1.5758 - val_loss: 2.1171 - val_mean_squared_error: 2.1171\n",
      "Epoch 91/100\n",
      "659/659 [==============================] - 0s - loss: 1.5693 - mean_squared_error: 1.5693 - val_loss: 2.1485 - val_mean_squared_error: 2.1485\n",
      "Epoch 92/100\n",
      "659/659 [==============================] - 0s - loss: 1.4721 - mean_squared_error: 1.4721 - val_loss: 2.2493 - val_mean_squared_error: 2.2493\n",
      "Epoch 93/100\n",
      "659/659 [==============================] - 0s - loss: 1.4697 - mean_squared_error: 1.4697 - val_loss: 2.1363 - val_mean_squared_error: 2.1363\n",
      "Epoch 94/100\n",
      "659/659 [==============================] - 0s - loss: 1.3948 - mean_squared_error: 1.3948 - val_loss: 2.5017 - val_mean_squared_error: 2.5017\n",
      "Epoch 95/100\n",
      "659/659 [==============================] - 0s - loss: 1.7264 - mean_squared_error: 1.7264 - val_loss: 2.1208 - val_mean_squared_error: 2.1208\n",
      "Epoch 96/100\n",
      "659/659 [==============================] - 0s - loss: 1.5903 - mean_squared_error: 1.5903 - val_loss: 2.2714 - val_mean_squared_error: 2.2714\n",
      "Epoch 97/100\n",
      "659/659 [==============================] - 0s - loss: 1.3991 - mean_squared_error: 1.3991 - val_loss: 2.3826 - val_mean_squared_error: 2.3826\n",
      "Epoch 98/100\n",
      "659/659 [==============================] - 0s - loss: 1.6420 - mean_squared_error: 1.6420 - val_loss: 2.8582 - val_mean_squared_error: 2.8582\n",
      "Epoch 99/100\n",
      "659/659 [==============================] - 0s - loss: 1.6179 - mean_squared_error: 1.6179 - val_loss: 2.3792 - val_mean_squared_error: 2.3792\n",
      "Epoch 100/100\n",
      "659/659 [==============================] - 0s - loss: 1.6191 - mean_squared_error: 1.6191 - val_loss: 1.9470 - val_mean_squared_error: 1.9470\n"
     ]
    },
    {
     "data": {
      "text/plain": [
       "<keras.callbacks.History at 0x2b8d14a9b400>"
      ]
     },
     "execution_count": 147,
     "metadata": {},
     "output_type": "execute_result"
    }
   ],
   "source": [
    "model.fit(train_features, train_labels, epochs=100, batch_size=32,shuffle=True,\n",
    "                validation_data=(test_features, test_labels))"
   ]
  },
  {
   "cell_type": "code",
   "execution_count": 148,
   "metadata": {},
   "outputs": [
    {
     "data": {
      "text/plain": [
       "(list, numpy.float64)"
      ]
     },
     "execution_count": 148,
     "metadata": {},
     "output_type": "execute_result"
    }
   ],
   "source": [
    "type(test_predict),type(test_labels[1])"
   ]
  },
  {
   "cell_type": "code",
   "execution_count": 149,
   "metadata": {},
   "outputs": [
    {
     "name": "stdout",
     "output_type": "stream",
     "text": [
      "100\n",
      "1.21271062831\n"
     ]
    }
   ],
   "source": [
    "from sklearn.metrics import mean_squared_error\n",
    "\n",
    "test_predict = []\n",
    "test_labels_2=[]\n",
    "for i in range(100):\n",
    "    if data_test[i].logMstar!=-99:\n",
    "        test_predict.append(model.predict(test_features[i].reshape(1,-1))[0][0])\n",
    "        test_labels_2.append(test_labels[i])\n",
    "print(len(test_predict))\n",
    "print(np.sqrt(mean_squared_error(np.asarray(test_predict), np.asarray(test_labels_2))))\n"
   ]
  },
  {
   "cell_type": "code",
   "execution_count": null,
   "metadata": {
    "collapsed": true
   },
   "outputs": [],
   "source": []
  }
 ],
 "metadata": {
  "kernelspec": {
   "display_name": "Python 3",
   "language": "python",
   "name": "python3"
  },
  "language_info": {
   "codemirror_mode": {
    "name": "ipython",
    "version": 3
   },
   "file_extension": ".py",
   "mimetype": "text/x-python",
   "name": "python",
   "nbconvert_exporter": "python",
   "pygments_lexer": "ipython3",
   "version": "3.6.1"
  }
 },
 "nbformat": 4,
 "nbformat_minor": 2
}
